{
 "cells": [
  {
   "cell_type": "markdown",
   "metadata": {},
   "source": [
    "# Creation of Signal Detection Data (1/3):\n",
    "This script is meant to be run after the accompaning mysql script that creates the requisite tables, and before the other two python scripts. It uses signal detection theory to create the features dprime, beta, and C for each individual based off their omission/commission errors.\n",
    "\n",
    "Note that some fields and tables will need to be changed amongst all of these as we implement the final database. IE snap_hack will be in the psych profile, adhd feature will be in the SIQ, etc."
   ]
  },
  {
   "cell_type": "markdown",
   "metadata": {},
   "source": [
    "### 1. Necessary Imports:"
   ]
  },
  {
   "cell_type": "code",
   "execution_count": 1,
   "metadata": {
    "collapsed": true
   },
   "outputs": [],
   "source": [
    "import numpy as np\n",
    "import math \n",
    "from scipy import stats\n",
    "import pandas as pd\n",
    "import pymysql\n",
    "\n",
    "\n",
    "from __future__ import division # Not neccessary in Python 3 and later\n",
    "import scipy\n",
    "from math import exp,sqrt"
   ]
  },
  {
   "cell_type": "markdown",
   "metadata": {},
   "source": [
    "### 2. Functions to estimate D', Beta, and C"
   ]
  },
  {
   "cell_type": "code",
   "execution_count": 2,
   "metadata": {
    "collapsed": false
   },
   "outputs": [],
   "source": [
    "Z = stats.norm.ppf\n",
    "\n",
    "#This function calculates D', Beta, and C\n",
    "def dPrime(hits, misses, fas, crs):\n",
    "    # Floors an ceilings are replaced by half hits and half FA's\n",
    "    halfHit = 0.5/(hits+misses)\n",
    "    halfFa = 0.5/(fas+crs)\n",
    " \n",
    "    # Calculate hitrate and avoid d' infinity\n",
    "    hitRate = hits/(hits+misses)\n",
    "    if hitRate == 1: hitRate = 1-halfHit\n",
    "    if hitRate == 0: hitRate = halfHit\n",
    " \n",
    "    # Calculate false alarm rate and avoid d' infinity\n",
    "    faRate = fas/(fas+crs)\n",
    "    if faRate == 1: faRate = 1-halfFa\n",
    "    if faRate == 0: faRate = halfFa\n",
    " \n",
    "    # Return d', beta, c and Ad'\n",
    "    out = {}\n",
    "    dPrizime = Z(hitRate) - Z(faRate)\n",
    "    beta = exp((Z(faRate)**2 - Z(hitRate)**2)/2)\n",
    "    c = -(Z(hitRate) + Z(faRate))/2\n",
    "    Ad = stats.norm.cdf(dPrizime/sqrt(2))\n",
    "    return dPrizime, beta, c"
   ]
  },
  {
   "cell_type": "code",
   "execution_count": 3,
   "metadata": {
    "collapsed": true
   },
   "outputs": [],
   "source": [
    "#This function processes ommission and commission errors, \n",
    "#and send them out to estimate d', beta, C function\n",
    "def generate_signal_detection(omissionErrors, commissionErrors, trueSigs, falseSigs):\n",
    "    \n",
    "    hits = trueSigs - omissionErrors\n",
    "    misses = omissionErrors\n",
    "    falseAlarms = commissionErrors\n",
    "    correctRejections = falseSigs - commissionErrors\n",
    "    \n",
    "    dP = np.zeros(20)\n",
    "    beta = np.zeros(20)\n",
    "    C = np.zeros(20)\n",
    "\n",
    "    for i in np.arange(np.shape(omissionErrors)[0]):\n",
    "        dP[i], beta[i], C[i] = dPrime(hits[i], misses[i], falseAlarms[i], correctRejections[i])\n",
    "    return np.column_stack((dP, beta, C))   "
   ]
  },
  {
   "cell_type": "code",
   "execution_count": 4,
   "metadata": {
    "collapsed": true
   },
   "outputs": [],
   "source": [
    "#This funtion slices up raw table into requisite chunks\n",
    "\n",
    "def separate_blocks(data):\n",
    "    #Creating adhd vector\n",
    "    adhd = np.zeros((20, 1))\n",
    "    adhd[:, 0] = np.array((1, 1, 0, 0, 0, 1, 0, 0, 0, 1, 0, 0, 0, 0, 1, 1, 1, 1, 1, 1))\n",
    "\n",
    "    #creating blocks:\n",
    "    block1 = data[data[:, 0] ==1, :]\n",
    "    block1 = block_to_signal(block1, adhd, 17, 179) #not accurate, need to double check\n",
    "    \n",
    "    block2 = data[data[:, 0] ==2, :]\n",
    "    block2 = block_to_signal(block2, adhd, 17, 179) #not accurate, need to double check\n",
    "    \n",
    "    block3 = data[data[:, 0] ==3, :]\n",
    "    block3 = block_to_signal(block3, adhd, 18, 180) #not accurate, need to double check\n",
    "\n",
    "    total = data[data[:, 0] ==0, :]\n",
    "    total =  block_to_signal(total, adhd, 52, 538 - 52) #not accurate, need to double check\n",
    "    \n",
    "    #merging blocks into final table:\n",
    "    finalData = np.array((block1[0, :], block2[0, :], block3[0, :], total[0, :]))\n",
    "\n",
    "    for i in np.arange(1, np.shape(total)[0]):\n",
    "        holder = np.array((block1[i, :], block2[i, :], block3[i, :], total[i, :]))\n",
    "        finalData = np.concatenate((finalData, holder))\n",
    "    \n",
    "    return finalData"
   ]
  },
  {
   "cell_type": "code",
   "execution_count": 5,
   "metadata": {
    "collapsed": true
   },
   "outputs": [],
   "source": [
    "#This function serves as an intermediary between separate-blocks and generate_signal_detection\n",
    "def block_to_signal(block, adhd, trueSigs, falseSigs):\n",
    "    block = np.concatenate((block, adhd), axis = 1)\n",
    "    blockSignal = generate_signal_detection(block[:, 2], block[:, 3], trueSigs, falseSigs)\n",
    "    block = np.concatenate((block, blockSignal), axis = 1)\n",
    "    return block"
   ]
  },
  {
   "cell_type": "markdown",
   "metadata": {},
   "source": [
    "### 3. DB connecting, pull, & insert"
   ]
  },
  {
   "cell_type": "code",
   "execution_count": 6,
   "metadata": {
    "collapsed": true
   },
   "outputs": [],
   "source": [
    "#initializes connection info for database\n",
    "def connect():\n",
    "    return pymysql.connect(host = \"rm-j6cluj4576jdi6n6oo.mysql.rds.aliyuncs.com\",\n",
    "                           database = 'rnd_test', \n",
    "                           user='cognitiveleap', \n",
    "                           password= 'QWE@123456')"
   ]
  },
  {
   "cell_type": "code",
   "execution_count": 7,
   "metadata": {
    "collapsed": false
   },
   "outputs": [],
   "source": [
    "#Gets CPT data from database\n",
    "def get_data(CaseIds, raw):\n",
    "    #connect to db\n",
    "    db = connect()\n",
    "    \n",
    "    # prepare a cursor object using cursor() method\n",
    "    cursor = db.cursor()\n",
    "    data = []\n",
    "\n",
    "    # Prepare SQL query to INSERT a record into the database.\n",
    "    for i in CaseIds:\n",
    "        if raw:\n",
    "            sql = \"\"\"SELECT Block, TargetsRtVariability, OmissionErrors, CommissionErrors, CasdId \n",
    "                     FROM cpt_output_results WHERE CasdId = \"\"\" + str(i) \n",
    "            cursor.execute(sql)\n",
    "            # Fetch all the rows in a list of lists.\n",
    "            results = np.asarray(cursor.fetchall())\n",
    "            data.append(results)\n",
    "        else:\n",
    "            sql = \"SELECT PathLen, TimeActive, NumRot, TotalDeg, CasdId FROM head_features WHERE CasdId = %s \"% str(i)\n",
    "            #print(sql)\n",
    "            cursor.execute(sql)\n",
    "            results = np.asarray(cursor.fetchall())\n",
    "            if (len(results) > 0):\n",
    "                data.append(results[0])\n",
    "     \n",
    "        #odd error\n",
    "        #except:\n",
    "         #print (\"Error: unable to fetch data\")\"\"\"\n",
    "    db.close()\n",
    "    \n",
    "    return np.concatenate(np.asarray(data))"
   ]
  },
  {
   "cell_type": "code",
   "execution_count": 8,
   "metadata": {
    "collapsed": true
   },
   "outputs": [],
   "source": [
    "#Inserts created features into signal detection tables\n",
    "\n",
    "def insert_signal(CaseIds, data):\n",
    "    db = connect()\n",
    "    cursor = db.cursor()\n",
    "    for i in range(len(data)):\n",
    "        sql = \"INSERT INTO signal_detection\"\n",
    "        sql += \"(Id, CaseID, Block, ADHD, DPrime, Beta, C)\"\n",
    "        sql += \"VALUES (%s, %s, %s, %s, %s, %s, %s)\" % (np.int(i),\n",
    "                                                                    np.int(data[i, 4]),                                                                       \n",
    "                                                                    np.int(data[i, 0]),                                                                       \n",
    "                                                                    np.bool(data[i, 5]),\n",
    "                                                                    data[i, 6], \n",
    "                                                                    data[i, 7], \n",
    "                                                                    data[i, 8])\n",
    "        #sql = \"SHOW COLUMNS FROM \"\n",
    "        # Execute the SQL command\n",
    "        cursor.execute(sql)\n",
    "        # Commit your changes in the database\n",
    "        db.commit()\n",
    "    db.close()"
   ]
  },
  {
   "cell_type": "code",
   "execution_count": 9,
   "metadata": {
    "collapsed": true
   },
   "outputs": [],
   "source": [
    "#this function inserts the manually entered SNAP data from the original 20 taiwan participants. \n",
    "#We hacked it together for testing. \n",
    "\n",
    "def insert_snap(caseIds):\n",
    "        #Adding copied and paseted SNAP values:\n",
    "    snapINN = np.zeros((20, 1))\n",
    "    snapINN[:, 0] = np.array((19, 9, 12, 1, 0, 19, 3, 1, 3, 12, 5, 5, 4, 5, 13, 16, 17, 12, 8, 3))\n",
    "    snapIMP = np.zeros((20, 1))\n",
    "    snapIMP[:, 0] = np.array((16, 9, 4, 0, 0, 11, 1, 1, 0, 6, 6, 6, 5, 1, 3, 16, 12, 9, 14, 4))\n",
    "    #snapSUM = snapIMP[:, 0] + snapINN[:, 0]\n",
    "    \n",
    "    db = connect()\n",
    "    cursor = db.cursor()\n",
    "    for i in range(20):\n",
    "        sql = \"INSERT INTO snap_hack\"\n",
    "        sql += \"(CaseID, SNAPINN, SNAPIMP, SNAPCombined)\"\n",
    "        sql += \"VALUES (%s, %s, %s, %s)\" % (caseIds[i],\n",
    "                                            snapINN[i, 0],\n",
    "                                            snapIMP[i, 0],\n",
    "                                            snapINN[i, 0] + snapIMP[i, 0])\n",
    "        #sql = \"SHOW COLUMNS FROM \"\n",
    "        # Execute the SQL command\n",
    "        cursor.execute(sql)\n",
    "        # Commit your changes in the database\n",
    "        db.commit()\n",
    "    db.close()"
   ]
  },
  {
   "cell_type": "markdown",
   "metadata": {},
   "source": [
    "### 4. Main Function:"
   ]
  },
  {
   "cell_type": "code",
   "execution_count": 10,
   "metadata": {
    "collapsed": true
   },
   "outputs": [],
   "source": [
    "#main function\n",
    "def main_bayes(caseIds):\n",
    "    allPatients = get_data(caseIds, True)\n",
    "    allPatients = separate_blocks(allPatients)\n",
    "    insert_signal(caseIds, allPatients)\n",
    "    insert_snap(caseIds)\n",
    "\n",
    "    "
   ]
  },
  {
   "cell_type": "code",
   "execution_count": 11,
   "metadata": {
    "collapsed": false
   },
   "outputs": [],
   "source": [
    "#calls main function, stores data for observation\n",
    "allPatients = main_bayes(np.arange(1, 21, 1))\n"
   ]
  },
  {
   "cell_type": "code",
   "execution_count": null,
   "metadata": {
    "collapsed": false
   },
   "outputs": [],
   "source": []
  },
  {
   "cell_type": "code",
   "execution_count": null,
   "metadata": {
    "collapsed": true
   },
   "outputs": [],
   "source": []
  }
 ],
 "metadata": {
  "anaconda-cloud": {},
  "kernelspec": {
   "display_name": "Python [default]",
   "language": "python",
   "name": "python3"
  },
  "language_info": {
   "codemirror_mode": {
    "name": "ipython",
    "version": 3
   },
   "file_extension": ".py",
   "mimetype": "text/x-python",
   "name": "python",
   "nbconvert_exporter": "python",
   "pygments_lexer": "ipython3",
   "version": "3.5.2"
  }
 },
 "nbformat": 4,
 "nbformat_minor": 1
}
